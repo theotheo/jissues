{
 "cells": [
  {
   "cell_type": "code",
   "execution_count": 18,
   "metadata": {
    "ExecuteTime": {
     "end_time": "2018-05-16T21:52:28.573262Z",
     "start_time": "2018-05-16T21:52:28.515390Z"
    }
   },
   "outputs": [],
   "source": [
    "from jira import JIRA\n",
    "from tqdm import tqdm_notebook\n",
    "import pandas as pd"
   ]
  },
  {
   "cell_type": "code",
   "execution_count": 19,
   "metadata": {
    "ExecuteTime": {
     "end_time": "2018-05-16T21:52:54.461203Z",
     "start_time": "2018-05-16T21:52:28.836381Z"
    }
   },
   "outputs": [
    {
     "data": {
      "application/vnd.jupyter.widget-view+json": {
       "model_id": "f7fed1232c5e4393b302d3a2c4d35724",
       "version_major": 2,
       "version_minor": 0
      },
      "text/plain": [
       "HBox(children=(IntProgress(value=1, bar_style='info', max=1), HTML(value='')))"
      ]
     },
     "metadata": {},
     "output_type": "display_data"
    },
    {
     "name": "stderr",
     "output_type": "stream",
     "text": [
      "\n",
      "KeyboardInterrupt\n",
      "\n"
     ]
    }
   ],
   "source": [
    "# jira = JIRA('https://jira.atlassian.com')\n",
    "jira = JIRA('https://tickets.puppetlabs.com')\n",
    "\n",
    "block_size = 100\n",
    "block_num = 0\n",
    "res = []\n",
    "\n",
    "t = tqdm_notebook()\n",
    "while True:\n",
    "    start_idx = block_num*block_size\n",
    "    issues = jira.search_issues(\"project=PUP\", start_idx, block_size)\n",
    "    if len(issues) == 0:\n",
    "        # Retrieve issues until there are no more to come\n",
    "        break\n",
    "        \n",
    "    block_num += 1\n",
    "    t.update(1)\n",
    "    for issue in issues:\n",
    "        i = {\n",
    "            'key': issue.key, \n",
    "            'summary': issue.fields.summary, \n",
    "            'description': issue.fields.description,\n",
    "            'labels': issue.fields.labels,\n",
    "            'issue_type': issue.fields.issuetype.name\n",
    "        }\n",
    "        res.append(i)\n",
    "t.close()"
   ]
  },
  {
   "cell_type": "code",
   "execution_count": 23,
   "metadata": {
    "ExecuteTime": {
     "end_time": "2018-05-16T21:53:45.503546Z",
     "start_time": "2018-05-16T21:53:45.446831Z"
    }
   },
   "outputs": [
    {
     "data": {
      "text/html": [
       "<div>\n",
       "<style scoped>\n",
       "    .dataframe tbody tr th:only-of-type {\n",
       "        vertical-align: middle;\n",
       "    }\n",
       "\n",
       "    .dataframe tbody tr th {\n",
       "        vertical-align: top;\n",
       "    }\n",
       "\n",
       "    .dataframe thead th {\n",
       "        text-align: right;\n",
       "    }\n",
       "</style>\n",
       "<table border=\"1\" class=\"dataframe\">\n",
       "  <thead>\n",
       "    <tr style=\"text-align: right;\">\n",
       "      <th></th>\n",
       "      <th>description</th>\n",
       "      <th>issue_type</th>\n",
       "      <th>key</th>\n",
       "      <th>labels</th>\n",
       "      <th>summary</th>\n",
       "    </tr>\n",
       "  </thead>\n",
       "  <tbody>\n",
       "    <tr>\n",
       "      <th>0</th>\n",
       "      <td>While looking for ways to influence report gen...</td>\n",
       "      <td>Improvement</td>\n",
       "      <td>PUP-8746</td>\n",
       "      <td>[]</td>\n",
       "      <td>Improve time_metrics in report generation to u...</td>\n",
       "    </tr>\n",
       "    <tr>\n",
       "      <th>1</th>\n",
       "      <td>h1.  The Problem\\r\\n\\r\\nPassing a type alias t...</td>\n",
       "      <td>Bug</td>\n",
       "      <td>PUP-8745</td>\n",
       "      <td>[]</td>\n",
       "      <td>The match function does not accept a type alias</td>\n",
       "    </tr>\n",
       "    <tr>\n",
       "      <th>2</th>\n",
       "      <td>h1. The Problem\\r\\n\\r\\nIf you use a variable f...</td>\n",
       "      <td>Bug</td>\n",
       "      <td>PUP-8744</td>\n",
       "      <td>[]</td>\n",
       "      <td>Using a variable in a Type on a parameter resu...</td>\n",
       "    </tr>\n",
       "    <tr>\n",
       "      <th>3</th>\n",
       "      <td>{{devicedir}} (the root directory of devices) ...</td>\n",
       "      <td>Improvement</td>\n",
       "      <td>PUP-8736</td>\n",
       "      <td>[backup-restore, devices]</td>\n",
       "      <td>/opt/puppetlabs contains device ssldir(s) norm...</td>\n",
       "    </tr>\n",
       "    <tr>\n",
       "      <th>4</th>\n",
       "      <td>*Puppet Version:* 5.5.1 (Win x64)\\r\\n*Puppet S...</td>\n",
       "      <td>Bug</td>\n",
       "      <td>PUP-8735</td>\n",
       "      <td>[i18n, utf-8, windows]</td>\n",
       "      <td>File resource doesn't seem to parse UTF8 filen...</td>\n",
       "    </tr>\n",
       "  </tbody>\n",
       "</table>\n",
       "</div>"
      ],
      "text/plain": [
       "                                         description   issue_type       key  \\\n",
       "0  While looking for ways to influence report gen...  Improvement  PUP-8746   \n",
       "1  h1.  The Problem\\r\\n\\r\\nPassing a type alias t...          Bug  PUP-8745   \n",
       "2  h1. The Problem\\r\\n\\r\\nIf you use a variable f...          Bug  PUP-8744   \n",
       "3  {{devicedir}} (the root directory of devices) ...  Improvement  PUP-8736   \n",
       "4  *Puppet Version:* 5.5.1 (Win x64)\\r\\n*Puppet S...          Bug  PUP-8735   \n",
       "\n",
       "                      labels  \\\n",
       "0                         []   \n",
       "1                         []   \n",
       "2                         []   \n",
       "3  [backup-restore, devices]   \n",
       "4     [i18n, utf-8, windows]   \n",
       "\n",
       "                                             summary  \n",
       "0  Improve time_metrics in report generation to u...  \n",
       "1   The match function does not accept a type alias   \n",
       "2  Using a variable in a Type on a parameter resu...  \n",
       "3  /opt/puppetlabs contains device ssldir(s) norm...  \n",
       "4  File resource doesn't seem to parse UTF8 filen...  "
      ]
     },
     "execution_count": 23,
     "metadata": {},
     "output_type": "execute_result"
    }
   ],
   "source": [
    "df = pd.DataFrame(res)\n",
    "df.head()"
   ]
  },
  {
   "cell_type": "code",
   "execution_count": 24,
   "metadata": {
    "ExecuteTime": {
     "end_time": "2018-05-16T21:53:47.753593Z",
     "start_time": "2018-05-16T21:53:47.547006Z"
    }
   },
   "outputs": [],
   "source": [
    "df.to_csv('PUP_issues_1000.csv', index=False)"
   ]
  }
 ],
 "metadata": {
  "kernelspec": {
   "display_name": "Python 3",
   "language": "python",
   "name": "python3"
  },
  "language_info": {
   "codemirror_mode": {
    "name": "ipython",
    "version": 3
   },
   "file_extension": ".py",
   "mimetype": "text/x-python",
   "name": "python",
   "nbconvert_exporter": "python",
   "pygments_lexer": "ipython3",
   "version": "3.5.2"
  },
  "toc": {
   "nav_menu": {},
   "number_sections": true,
   "sideBar": true,
   "skip_h1_title": false,
   "toc_cell": false,
   "toc_position": {},
   "toc_section_display": "block",
   "toc_window_display": false
  }
 },
 "nbformat": 4,
 "nbformat_minor": 2
}
